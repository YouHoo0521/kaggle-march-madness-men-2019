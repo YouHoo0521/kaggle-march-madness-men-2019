{
 "cells": [
  {
   "cell_type": "markdown",
   "metadata": {},
   "source": [
    "In this notebook we will take the seasonal differentials of a teams stats and compare them against the opposing teams seasonal differentials"
   ]
  },
  {
   "cell_type": "code",
   "execution_count": 1,
   "metadata": {},
   "outputs": [
    {
     "ename": "ModuleNotFoundError",
     "evalue": "No module named 'src'",
     "output_type": "error",
     "traceback": [
      "\u001b[0;31m---------------------------------------------------------------------------\u001b[0m",
      "\u001b[0;31mModuleNotFoundError\u001b[0m                       Traceback (most recent call last)",
      "\u001b[0;32m<ipython-input-1-c17e58a2c833>\u001b[0m in \u001b[0;36m<module>\u001b[0;34m\u001b[0m\n\u001b[1;32m     11\u001b[0m \u001b[0msys\u001b[0m\u001b[0;34m.\u001b[0m\u001b[0mpath\u001b[0m\u001b[0;34m\u001b[0m\u001b[0;34m\u001b[0m\u001b[0m\n\u001b[1;32m     12\u001b[0m \u001b[0;34m\u001b[0m\u001b[0m\n\u001b[0;32m---> 13\u001b[0;31m \u001b[0;32mfrom\u001b[0m \u001b[0msrc\u001b[0m\u001b[0;34m.\u001b[0m\u001b[0mdata\u001b[0m \u001b[0;32mimport\u001b[0m \u001b[0mmake_dataset\u001b[0m\u001b[0;34m\u001b[0m\u001b[0;34m\u001b[0m\u001b[0m\n\u001b[0m\u001b[1;32m     14\u001b[0m \u001b[0mdata\u001b[0m \u001b[0;34m=\u001b[0m \u001b[0mmake_dataset\u001b[0m\u001b[0;34m.\u001b[0m\u001b[0mget_boxscore_dataset_v1\u001b[0m\u001b[0;34m(\u001b[0m\u001b[0;34m)\u001b[0m\u001b[0;34m\u001b[0m\u001b[0;34m\u001b[0m\u001b[0m\n\u001b[1;32m     15\u001b[0m \u001b[0;34m\u001b[0m\u001b[0m\n",
      "\u001b[0;31mModuleNotFoundError\u001b[0m: No module named 'src'"
     ]
    }
   ],
   "source": [
    "import os\n",
    "import sys\n",
    "import pandas as pd\n",
    "import numpy as np\n",
    "from sklearn import neighbors\n",
    "from sklearn.metrics import log_loss\n",
    "pd.set_option('display.max_columns', 500)\n",
    "module_path = os.path.abspath(os.path.join('../..'))\n",
    "if module_path not in sys.path:\n",
    "    sys.path.append(module_path)\n",
    "sys.path\n",
    "\n",
    "from src.data import make_dataset\n",
    "data = make_dataset.get_boxscore_dataset_v1()\n",
    "\n",
    "data.head()"
   ]
  },
  {
   "cell_type": "code",
   "execution_count": null,
   "metadata": {},
   "outputs": [],
   "source": [
    "cols = data.columns\n",
    "diffCols = [s for s in cols if \"mean\" in s]\n",
    "diffCats=[]\n",
    "for col in diffCols:\n",
    "    cat = col.split('_')[0]\n",
    "    if cat not in diffCats:\n",
    "        diffCats.append(cat)\n",
    "        \n",
    "diffDict = {}\n",
    "for team in [1, 2]:\n",
    "    for cat in diffCats:\n",
    "        diffDict[cat + '_diff_' + str(team)] = data[cat + '_team_mean' + str(team)] - data[cat + '_opp_mean' + str(team)]\n",
    "        data.drop(columns =[cat + '_team_mean' + str(team),\n",
    "                            cat + '_team_std' + str(team), \n",
    "                            cat + '_opp_mean' + str(team),\n",
    "                            cat + '_opp_std' + str(team)],\n",
    "                  inplace = True)\n",
    "#print(diffDict)\n",
    "dfDiff = pd.DataFrame(diffDict, columns = diffDict.keys())\n",
    "#dfDiff.head()\n",
    "data.drop(columns =['season',\n",
    "                    'daynum',\n",
    "                    'numot',\n",
    "                    'score1',\n",
    "                    'score2',\n",
    "                    'loc',\n",
    "                    'seed1',\n",
    "                    'seednum1',\n",
    "                    'seed2',\n",
    "                    'seednum2',\n",
    "                    'confabbrev1',\n",
    "                    'conf_descr1',\n",
    "                    'confabbrev2',\n",
    "                    'conf_descr2',\n",
    "                    'teamname1',\n",
    "                    'firstd1season1',\n",
    "                    'lastd1season1',\n",
    "                    'teamname2',\n",
    "                    'firstd1season2',\n",
    "                    'lastd1season2',\n",
    "                    'seeddiff',\n",
    "                    'ID'],\n",
    "                  inplace = True)\n",
    "\n",
    "\n",
    "data = pd.concat([data, dfDiff], axis=1)\n",
    "data.head()"
   ]
  },
  {
   "cell_type": "markdown",
   "metadata": {},
   "source": [
    "Now we are going to duplicate all of this training data, but reverse team1 and team2. The team1win column will need to be reversed as well (i.e. if the current value is 1 the new value is 0 and vice versa)"
   ]
  },
  {
   "cell_type": "code",
   "execution_count": null,
   "metadata": {},
   "outputs": [],
   "source": [
    "def inverse1and0(v):\n",
    "    if (v == 1):\n",
    "        return 0\n",
    "    else:\n",
    "        return 1\n",
    "\n",
    "duplicateData = data.copy()\n",
    "duplicateData['team1win']=duplicateData['team1win'].map(inverse1and0)\n",
    "columns = list(duplicateData)\n",
    "\n",
    "swapped = []\n",
    "for col in columns:\n",
    "    if col in swapped:\n",
    "        continue\n",
    "    if col.endswith('1'):\n",
    "        col2 = col[:-1] + '2'\n",
    "        col1idx = columns.index(col)\n",
    "        col2idx = columns.index(col2)\n",
    "        columns[col1idx], columns[col2idx] = columns[col2idx], columns[col1idx]\n",
    "        swapped.append(col)\n",
    "\n",
    "duplicateData.columns = columns\n",
    "duplicateData.head()\n"
   ]
  },
  {
   "cell_type": "code",
   "execution_count": null,
   "metadata": {},
   "outputs": [],
   "source": [
    "tourneyData = data.loc[data['tourney'] == 1]\n",
    "\n",
    "data = pd.concat([data, duplicateData], sort=False)\n",
    "regSeasonData = data.loc[data['tourney'] == 0]\n",
    "\n",
    "regSeasonData.drop(columns = ['tourney'], inplace = True)\n",
    "tourneyData.drop(columns = ['tourney'], inplace = True)\n",
    "\n",
    "xtrain = np.array(regSeasonData.drop(columns = ['team1win', 'team1', 'team2']))\n",
    "ytrain = np.array(regSeasonData['team1win'])\n",
    "\n",
    "xtest = np.array(tourneyData.drop(columns = ['team1win', 'team1', 'team2']))\n",
    "ytest = np.array(tourneyData['team1win'])\n",
    "\n",
    "clf = neighbors.KNeighborsClassifier()\n",
    "clf.fit(xtrain, ytrain)\n",
    "testprobs = clf.predict_proba(xtest)\n",
    "print(testprobs)"
   ]
  },
  {
   "cell_type": "code",
   "execution_count": null,
   "metadata": {
    "scrolled": false
   },
   "outputs": [],
   "source": [
    "test_loss = log_loss(ytest,testprobs[:, 0])\n",
    "print(test_loss)"
   ]
  },
  {
   "cell_type": "code",
   "execution_count": null,
   "metadata": {},
   "outputs": [],
   "source": [
    "accuracy = clf.score(xtest, ytest)\n",
    "print(accuracy)"
   ]
  },
  {
   "cell_type": "code",
   "execution_count": null,
   "metadata": {},
   "outputs": [],
   "source": []
  }
 ],
 "metadata": {
  "kernelspec": {
   "display_name": "Python 3",
   "language": "python",
   "name": "python3"
  },
  "language_info": {
   "codemirror_mode": {
    "name": "ipython",
    "version": 3
   },
   "file_extension": ".py",
   "mimetype": "text/x-python",
   "name": "python",
   "nbconvert_exporter": "python",
   "pygments_lexer": "ipython3",
   "version": "3.7.1"
  }
 },
 "nbformat": 4,
 "nbformat_minor": 2
}
